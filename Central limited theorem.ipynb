{
 "cells": [
  {
   "cell_type": "markdown",
   "id": "2f06b697",
   "metadata": {},
   "source": [
    "###  given a dataset\n",
    "### randomly choose samples --> get their means. ex: sample1 --> mean1, sample2--> mean2....\n",
    "#### [mean1, mean2, mean3.....mean100]\n",
    "#### their total mean almas same with mean of population(mu)\n",
    "#### plot them---> approaches to NORMAL DISTRIBUTION\\"
   ]
  },
  {
   "cell_type": "code",
   "execution_count": 1,
   "id": "9ef2b73c",
   "metadata": {},
   "outputs": [],
   "source": [
    "# random data\n",
    "\n",
    "import numpy as np\n",
    "import pandas as pd\n",
    "import matplotlib.pyplot as plt\n",
    "import seaborn as sns\n",
    "sns.set()"
   ]
  },
  {
   "cell_type": "code",
   "execution_count": 155,
   "id": "37740451",
   "metadata": {},
   "outputs": [],
   "source": [
    "rand_data = np.random.randint(600, size = (200))"
   ]
  },
  {
   "cell_type": "code",
   "execution_count": 43,
   "id": "0d9beab1",
   "metadata": {
    "scrolled": true
   },
   "outputs": [
    {
     "data": {
      "text/plain": [
       "array([273, 186, 347, 440,  95, 146, 129, 444,  24,  52, 199, 343, 107,\n",
       "       337, 372, 440,  73, 237, 471, 415, 158, 114, 145,  17, 517, 436,\n",
       "        59, 200, 197, 361, 209,  89, 584, 365, 263, 429, 200,  94,  28,\n",
       "       211,  23, 494, 515, 559, 343,  34, 397, 515, 593,  81, 592,  87,\n",
       "       105, 365, 170, 345, 449, 284,  39, 490, 343,  76, 540, 517, 177,\n",
       "       311,  64, 594, 487,   7, 489, 156,  10, 365, 488, 230, 201, 545,\n",
       "       363, 266, 237, 116, 249, 288, 571, 347, 408, 569,  30,  13, 421,\n",
       "       113, 265, 325, 120,  70, 114, 392,  62, 477, 531, 507, 162,  61,\n",
       "       345, 499, 280, 349,  18, 337, 255, 392, 581,  38,  77, 292, 195,\n",
       "       381, 161, 496, 552, 322, 143, 159, 127, 392, 375, 334, 442, 373,\n",
       "       396, 324, 553, 582, 352, 175, 154, 173, 545, 559, 356, 329, 213,\n",
       "        92, 457, 513, 395, 457,  39, 519, 530, 173, 595, 436, 116, 372,\n",
       "       389, 547, 433, 477,  93,  17,  42, 170, 292,  24, 520, 491, 507,\n",
       "       207, 458, 239, 563, 340, 351, 271,  22,  59,  64, 129, 465, 371,\n",
       "       235, 478, 159, 588, 278, 106, 273, 242, 526, 200, 342, 175,  85,\n",
       "       387, 517, 281,  73, 261])"
      ]
     },
     "execution_count": 43,
     "metadata": {},
     "output_type": "execute_result"
    }
   ],
   "source": [
    "rand_data\n"
   ]
  },
  {
   "cell_type": "code",
   "execution_count": 115,
   "id": "1d96f5de",
   "metadata": {},
   "outputs": [],
   "source": [
    "popul_mean = rand_data.mean() # mu = 303.855"
   ]
  },
  {
   "cell_type": "code",
   "execution_count": 45,
   "id": "a4466da2",
   "metadata": {},
   "outputs": [
    {
     "data": {
      "text/plain": [
       "(200,)"
      ]
     },
     "execution_count": 45,
     "metadata": {},
     "output_type": "execute_result"
    }
   ],
   "source": [
    "rand_data.shape"
   ]
  },
  {
   "cell_type": "raw",
   "id": "d7a78dc2",
   "metadata": {},
   "source": []
  },
  {
   "cell_type": "code",
   "execution_count": 47,
   "id": "bfe1be98",
   "metadata": {},
   "outputs": [
    {
     "data": {
      "text/plain": [
       "(array([24., 22., 20., 18., 16., 21., 21., 17., 22., 19.]),\n",
       " array([  7. ,  65.8, 124.6, 183.4, 242.2, 301. , 359.8, 418.6, 477.4,\n",
       "        536.2, 595. ]),\n",
       " <BarContainer object of 10 artists>)"
      ]
     },
     "execution_count": 47,
     "metadata": {},
     "output_type": "execute_result"
    },
    {
     "data": {
      "image/png": "[encoded data removed]",
      "text/plain": [
       "<Figure size 432x288 with 1 Axes>"
      ]
     },
     "metadata": {},
     "output_type": "display_data"
    }
   ],
   "source": [
    "plt.hist(rand_data) # random distributed"
   ]
  },
  {
   "cell_type": "code",
   "execution_count": 95,
   "id": "c5600788",
   "metadata": {},
   "outputs": [
    {
     "name": "stdout",
     "output_type": "stream",
     "text": [
      "0 [507 507 588 175 249 365 237  30 343 170] 317.1\n",
      "1 [175 381 436 170 496 200 458 545  87 457] 340.5\n",
      "2 [372 249 559  73 116 387 271 372  95 325] 281.9\n",
      "3 [349 127 499 588 363 553  59 559  89 471] 365.7\n",
      "4 [ 24 278 365 105 392 395 271 175 213 496] 271.4\n",
      "5 [436  59 200 288 519  22 363 242 356 105] 259.0\n",
      "6 [569 170 477 113 372  62 200  85 116 477] 264.1\n",
      "7 [595 477 515 489 113  30 489  76 249  34] 306.7\n",
      "8 [114 559 392 173 345 421  85 237 337 255] 291.8\n",
      "9 [488 436 273 329  62 273  23 116 375 343] 271.8\n",
      "10 [173  17 363 129 363 531 177 365 200 161] 247.9\n",
      "11 [389 271 273 237 114  24 120 281 592 186] 248.7\n",
      "12 [563 255   7 325 392 440 408 106  17 477] 299.0\n",
      "13 [553 571 159  42 471 361 129 265  92 442] 308.5\n",
      "14 [273 371  87 595 106 173 207  59 569 381] 282.1\n",
      "15 [408 356 213 201 545 173 177 351 186 457] 306.7\n",
      "16 [465 343  94 547 581 325 478  95 363 547] 383.8\n",
      "17 [507 200 292 201 489 457 433 143 284 531] 353.7\n",
      "18 [271 584 361 436  73  77  95 569 515 449] 343.0\n",
      "19 [113 547 255 337 237 499 129 507 161 540] 332.5\n",
      "20 [397 197 449 158 489 489 199 545 177 197] 329.7\n",
      "21 [105 429 477 371 156  59 571 371 457 365] 336.1\n",
      "22 [200 106 415  89 200 540 444 540  73 408] 301.5\n",
      "23 [156 478  73 324 592 292 517 373  59 457] 332.1\n",
      "24 [397 170  92  24 116 444 170 249 351 343] 235.6\n",
      "25 [145 449 329  92 513 352 105 457 559 415] 341.6\n",
      "26 [114 266  70 375 343 343 156 177 177 340] 236.1\n",
      "27 [365 396 129 249 513 113 373 436 477 507] 355.8\n",
      "28 [499 347 513 513  59 158 343 311 261  39] 304.3\n",
      "29 [ 77 230 209 389  95 342 440 588 261 345] 297.6\n"
     ]
    },
    {
     "data": {
      "text/plain": [
       "[317.1,\n",
       " 340.5,\n",
       " 281.9,\n",
       " 365.7,\n",
       " 271.4,\n",
       " 259.0,\n",
       " 264.1,\n",
       " 306.7,\n",
       " 291.8,\n",
       " 271.8,\n",
       " 247.9,\n",
       " 248.7,\n",
       " 299.0,\n",
       " 308.5,\n",
       " 282.1,\n",
       " 306.7,\n",
       " 383.8,\n",
       " 353.7,\n",
       " 343.0,\n",
       " 332.5,\n",
       " 329.7,\n",
       " 336.1,\n",
       " 301.5,\n",
       " 332.1,\n",
       " 235.6,\n",
       " 341.6,\n",
       " 236.1,\n",
       " 355.8,\n",
       " 304.3,\n",
       " 297.6]"
      ]
     },
     "execution_count": 95,
     "metadata": {},
     "output_type": "execute_result"
    }
   ],
   "source": [
    "# s1 = np.random.choice(rand_data, size = 10)\n",
    "# x_mean1 = s1.mean()\n",
    "# print(x_mean1,'--', s1)\n",
    "\n",
    "sample = list()  # 30 times sample--> get 30 means\n",
    "for i in range(30): \n",
    "    rands = np.random.choice(rand_data, size = 10)\n",
    "    print(i, rands , rands.mean())\n",
    "    sample.append(rands.mean())\n",
    "\n",
    "sample\n"
   ]
  },
  {
   "cell_type": "code",
   "execution_count": 68,
   "id": "ccb8702c",
   "metadata": {},
   "outputs": [
    {
     "data": {
      "text/plain": [
       "(array([1., 1., 5., 4., 6., 4., 1., 5., 2., 1.]),\n",
       " array([161.5 , 188.85, 216.2 , 243.55, 270.9 , 298.25, 325.6 , 352.95,\n",
       "        380.3 , 407.65, 435.  ]),\n",
       " <BarContainer object of 10 artists>)"
      ]
     },
     "execution_count": 68,
     "metadata": {},
     "output_type": "execute_result"
    },
    {
     "data": {
      "image/png": "[encoded data removed]",
      "text/plain": [
       "<Figure size 432x288 with 1 Axes>"
      ]
     },
     "metadata": {},
     "output_type": "display_data"
    }
   ],
   "source": [
    "plt.hist(sample)"
   ]
  },
  {
   "cell_type": "code",
   "execution_count": 69,
   "id": "d48d2380",
   "metadata": {},
   "outputs": [
    {
     "data": {
      "text/plain": [
       "296.3166666666667"
      ]
     },
     "execution_count": 69,
     "metadata": {},
     "output_type": "execute_result"
    }
   ],
   "source": [
    "np.array(sample).mean()"
   ]
  },
  {
   "cell_type": "code",
   "execution_count": 84,
   "id": "3f3d6050",
   "metadata": {},
   "outputs": [
    {
     "data": {
      "text/plain": [
       "297.03625"
      ]
     },
     "execution_count": 84,
     "metadata": {},
     "output_type": "execute_result"
    }
   ],
   "source": [
    "#   200 time sample --> 200 means\n",
    "\n",
    "sample3 = list()  # means of every sample\n",
    "for i in range(200):\n",
    "    rand = np.random.choice(rand_data,size = (20))\n",
    "    sample3.append(rand.mean()) \n",
    "    \n",
    "np.array(sample3).mean()\n",
    "    "
   ]
  },
  {
   "cell_type": "code",
   "execution_count": 85,
   "id": "378e7bd9",
   "metadata": {},
   "outputs": [
    {
     "data": {
      "text/plain": [
       "(array([ 5.,  9.,  9., 34., 48., 38., 25., 14., 11.,  7.]),\n",
       " array([199.9 , 219.17, 238.44, 257.71, 276.98, 296.25, 315.52, 334.79,\n",
       "        354.06, 373.33, 392.6 ]),\n",
       " <BarContainer object of 10 artists>)"
      ]
     },
     "execution_count": 85,
     "metadata": {},
     "output_type": "execute_result"
    },
    {
     "data": {
      "image/png": "[encoded data removed]",
      "text/plain": [
       "<Figure size 432x288 with 1 Axes>"
      ]
     },
     "metadata": {},
     "output_type": "display_data"
    }
   ],
   "source": [
    "plt.hist(sample3)"
   ]
  },
  {
   "cell_type": "code",
   "execution_count": 117,
   "id": "297bbeb7",
   "metadata": {},
   "outputs": [
    {
     "name": "stdout",
     "output_type": "stream",
     "text": [
      "mean of 400 means: 295.196625\n"
     ]
    }
   ],
   "source": [
    "#   400 time sample --> 400 means\n",
    "\n",
    "sample3 = list()  # means of every sample\n",
    "for i in range(400):\n",
    "    rand = np.random.choice(rand_data,size = (20))\n",
    "    sample3.append(rand.mean()) \n",
    "    \n",
    "print('mean of 400 means:',np.array(sample3).mean())   # 295.346"
   ]
  },
  {
   "cell_type": "code",
   "execution_count": 118,
   "id": "91dbc149",
   "metadata": {
    "scrolled": true
   },
   "outputs": [
    {
     "data": {
      "text/plain": [
       "(array([ 15.,  53.,  84., 118.,  73.,  43.,  11.,   0.,   2.,   1.]),\n",
       " array([206.   , 231.935, 257.87 , 283.805, 309.74 , 335.675, 361.61 ,\n",
       "        387.545, 413.48 , 439.415, 465.35 ]),\n",
       " <BarContainer object of 10 artists>)"
      ]
     },
     "execution_count": 118,
     "metadata": {},
     "output_type": "execute_result"
    },
    {
     "data": {
      "image/png": "[encoded data removed]",
      "text/plain": [
       "<Figure size 432x288 with 1 Axes>"
      ]
     },
     "metadata": {},
     "output_type": "display_data"
    }
   ],
   "source": [
    "plt.hist(sample3)"
   ]
  },
  {
   "cell_type": "code",
   "execution_count": 119,
   "id": "f722d5e2",
   "metadata": {},
   "outputs": [
    {
     "data": {
      "text/plain": [
       "-0.04662500000000591"
      ]
     },
     "execution_count": 119,
     "metadata": {},
     "output_type": "execute_result"
    }
   ],
   "source": [
    "popul_mean - (np.array(sample3).mean())"
   ]
  },
  {
   "cell_type": "code",
   "execution_count": 144,
   "id": "3c527c50",
   "metadata": {},
   "outputs": [
    {
     "name": "stdout",
     "output_type": "stream",
     "text": [
      "mean of 1000 means: 298.07785\n"
     ]
    }
   ],
   "source": [
    "#   1000 time sample --> 1000 means\n",
    "\n",
    "sample3 = list()  # means of every sample\n",
    "for i in range(1000):\n",
    "    rand = np.random.choice(rand_data,size = (20))\n",
    "    sample3.append(rand.mean()) \n",
    "    \n",
    "print('mean of 1000 means:',np.array(sample3).mean())   # 295.346"
   ]
  },
  {
   "cell_type": "code",
   "execution_count": 145,
   "id": "dc7fc9ec",
   "metadata": {},
   "outputs": [
    {
     "data": {
      "text/plain": [
       "(array([  5.,  11.,  54., 124., 209., 237., 202., 101.,  45.,  12.]),\n",
       " array([171.2  , 194.705, 218.21 , 241.715, 265.22 , 288.725, 312.23 ,\n",
       "        335.735, 359.24 , 382.745, 406.25 ]),\n",
       " <BarContainer object of 10 artists>)"
      ]
     },
     "execution_count": 145,
     "metadata": {},
     "output_type": "execute_result"
    },
    {
     "data": {
      "image/png": "[encoded data removed]",
      "text/plain": [
       "<Figure size 432x288 with 1 Axes>"
      ]
     },
     "metadata": {},
     "output_type": "display_data"
    }
   ],
   "source": [
    "plt.hist(sample3)"
   ]
  },
  {
   "cell_type": "code",
   "execution_count": 146,
   "id": "51cd97c3",
   "metadata": {},
   "outputs": [
    {
     "data": {
      "text/plain": [
       "174.23489174100575"
      ]
     },
     "execution_count": 146,
     "metadata": {},
     "output_type": "execute_result"
    }
   ],
   "source": [
    "pop_dev = rand_data.std()\n",
    "pop_dev"
   ]
  },
  {
   "cell_type": "code",
   "execution_count": 147,
   "id": "c94454ba",
   "metadata": {},
   "outputs": [
    {
     "data": {
      "text/plain": [
       "298.07785"
      ]
     },
     "execution_count": 147,
     "metadata": {},
     "output_type": "execute_result"
    }
   ],
   "source": [
    "sample_mean = np.array(sample3).mean()\n",
    "sample_mean"
   ]
  },
  {
   "cell_type": "code",
   "execution_count": 148,
   "id": "1edd3e04",
   "metadata": {},
   "outputs": [
    {
     "data": {
      "text/plain": [
       "20"
      ]
     },
     "execution_count": 148,
     "metadata": {},
     "output_type": "execute_result"
    }
   ],
   "source": [
    "n = 20 #sample size\n",
    "n"
   ]
  },
  {
   "cell_type": "code",
   "execution_count": 149,
   "id": "3b80071c",
   "metadata": {},
   "outputs": [],
   "source": [
    "z = popul_mean - (np.array(sample3).mean())"
   ]
  },
  {
   "cell_type": "code",
   "execution_count": 150,
   "id": "32dbcf53",
   "metadata": {
    "scrolled": true
   },
   "outputs": [
    {
     "data": {
      "text/plain": [
       "293.38011004849375"
      ]
     },
     "execution_count": 150,
     "metadata": {},
     "output_type": "execute_result"
    }
   ],
   "source": [
    "clmax = sample_mean - (z*(pop_dev/(np.sqrt(n))))\n",
    "clmax"
   ]
  },
  {
   "cell_type": "code",
   "execution_count": 151,
   "id": "80ed1b29",
   "metadata": {},
   "outputs": [
    {
     "data": {
      "text/plain": [
       "295.15"
      ]
     },
     "execution_count": 151,
     "metadata": {},
     "output_type": "execute_result"
    }
   ],
   "source": [
    "popul_mean"
   ]
  },
  {
   "cell_type": "code",
   "execution_count": 152,
   "id": "49c9c041",
   "metadata": {},
   "outputs": [
    {
     "data": {
      "text/plain": [
       "184.00850306666024"
      ]
     },
     "execution_count": 152,
     "metadata": {},
     "output_type": "execute_result"
    }
   ],
   "source": [
    "clmin = sample_mean + (z*(pop_dev/np.sqrt(n)))\n",
    "clmin"
   ]
  },
  {
   "cell_type": "code",
   "execution_count": 153,
   "id": "cea39b52",
   "metadata": {},
   "outputs": [
    {
     "name": "stdout",
     "output_type": "stream",
     "text": [
      "Confidence Interval:  184.01 -- 295.15 -- 412.15 \n"
     ]
    }
   ],
   "source": [
    "print(\"Confidence Interval:  {:.2f} -- {} -- {:.2f} \".format(clmin,popul_mean,clmax))"
   ]
  },
  {
   "cell_type": "markdown",
   "id": "213275d9",
   "metadata": {},
   "source": [
    "###                                mean of  sample means lie in this interval   |   popul mean = 295.15\n",
    "### Confidence Interval:  293.38 -- 295.15 -- 297.01 "
   ]
  },
  {
   "cell_type": "code",
   "execution_count": null,
   "id": "81535844",
   "metadata": {},
   "outputs": [],
   "source": []
  },
  {
   "cell_type": "code",
   "execution_count": null,
   "id": "de540574",
   "metadata": {},
   "outputs": [],
   "source": []
  },
  {
   "cell_type": "markdown",
   "id": "3f97227a",
   "metadata": {},
   "source": [
    "## CONFIDENCE INTERVAL"
   ]
  },
  {
   "cell_type": "code",
   "execution_count": 96,
   "id": "cd7e33bf",
   "metadata": {},
   "outputs": [],
   "source": [
    "import numpy as np\n",
    "import pandas as pd\n",
    "import scipy.stats as stats\n",
    "import random\n",
    "import math\n",
    "import matplotlib.pyplot as plt"
   ]
  },
  {
   "cell_type": "code",
   "execution_count": 110,
   "id": "8d9c8efb",
   "metadata": {},
   "outputs": [
    {
     "name": "stdout",
     "output_type": "stream",
     "text": [
      "53.00546\n",
      "27.99774\n"
     ]
    },
    {
     "data": {
      "text/plain": [
       "43.002372"
      ]
     },
     "execution_count": 110,
     "metadata": {},
     "output_type": "execute_result"
    }
   ],
   "source": [
    "np.random.seed(10)\n",
    "popul_ages1 = stats.poisson.rvs(loc = 18, mu = 35, size = 150000)\n",
    "popul_ages2 = stats.poisson.rvs(loc = 18, mu = 10, size = 100000)\n",
    "popul_ages = np.concatenate((popul_ages1,popul_ages2))\n",
    "\n",
    "print(popul_ages1.mean())\n",
    "print(popul_ages2.mean())      \n",
    "popul_ages.mean()  # population mean"
   ]
  },
  {
   "cell_type": "code",
   "execution_count": 112,
   "id": "beffeaad",
   "metadata": {},
   "outputs": [
    {
     "name": "stdout",
     "output_type": "stream",
     "text": [
      "42.388\n"
     ]
    },
    {
     "data": {
      "text/plain": [
       "0.614372000000003"
      ]
     },
     "execution_count": 112,
     "metadata": {},
     "output_type": "execute_result"
    }
   ],
   "source": [
    "np.random.seed(6)\n",
    "sample_ages = np.random.choice(popul_ages, size = (500)) #500age(num) in 1st sample\n",
    "print(sample_ages.mean())\n",
    "\n",
    "\n",
    "popul_ages.mean() - sample_ages.mean()"
   ]
  },
  {
   "cell_type": "markdown",
   "id": "008e10b5",
   "metadata": {},
   "source": [
    "#####    0.61 sample margin error \n",
    "####  "
   ]
  },
  {
   "cell_type": "code",
   "execution_count": null,
   "id": "b6a4ec8a",
   "metadata": {},
   "outputs": [],
   "source": [
    "\n",
    "\n",
    "\n",
    "\n"
   ]
  },
  {
   "cell_type": "code",
   "execution_count": 2,
   "id": "c026aff7",
   "metadata": {},
   "outputs": [],
   "source": [
    "d = np.array([27,34,34,36,30,28,41,35,48,43])"
   ]
  },
  {
   "cell_type": "code",
   "execution_count": 4,
   "id": "ace05d2e",
   "metadata": {},
   "outputs": [
    {
     "data": {
      "text/plain": [
       "35.6"
      ]
     },
     "execution_count": 4,
     "metadata": {},
     "output_type": "execute_result"
    }
   ],
   "source": [
    "d.mean()"
   ]
  },
  {
   "cell_type": "code",
   "execution_count": 6,
   "id": "008dc397",
   "metadata": {},
   "outputs": [
    {
     "data": {
      "text/plain": [
       "35.6"
      ]
     },
     "execution_count": 6,
     "metadata": {},
     "output_type": "execute_result"
    }
   ],
   "source": [
    "d.sum()/len(d)"
   ]
  },
  {
   "cell_type": "code",
   "execution_count": 7,
   "id": "46ff7e51",
   "metadata": {},
   "outputs": [
    {
     "data": {
      "text/plain": [
       "6.374950980203691"
      ]
     },
     "execution_count": 7,
     "metadata": {},
     "output_type": "execute_result"
    }
   ],
   "source": [
    "d.std()"
   ]
  },
  {
   "cell_type": "code",
   "execution_count": 12,
   "id": "99253de3",
   "metadata": {},
   "outputs": [],
   "source": [
    "import math \n",
    "\n",
    "\n",
    "se = 6/math.sqrt(10)"
   ]
  },
  {
   "cell_type": "code",
   "execution_count": 14,
   "id": "81dc643d",
   "metadata": {},
   "outputs": [
    {
     "data": {
      "text/plain": [
       "3.718838528358014"
      ]
     },
     "execution_count": 14,
     "metadata": {},
     "output_type": "execute_result"
    }
   ],
   "source": [
    "1.96*se"
   ]
  },
  {
   "cell_type": "code",
   "execution_count": 17,
   "id": "2daa276a",
   "metadata": {},
   "outputs": [
    {
     "data": {
      "text/plain": [
       "39.32"
      ]
     },
     "execution_count": 17,
     "metadata": {},
     "output_type": "execute_result"
    }
   ],
   "source": [
    "35.6+3.72"
   ]
  },
  {
   "cell_type": "code",
   "execution_count": null,
   "id": "ffcd321b",
   "metadata": {},
   "outputs": [],
   "source": []
  },
  {
   "cell_type": "code",
   "execution_count": 18,
   "id": "f194615c",
   "metadata": {
    "scrolled": true
   },
   "outputs": [
    {
     "data": {
      "text/plain": [
       "array([26, 47,  4, 10, 23, 20, 48, 39, 49,  0, 29, 33, 26, 41, 11, 28, 27,\n",
       "       29,  9, 18, 31,  6, 25, 17, 46,  6, 42,  0, 15, 35,  9, 42, 36, 49,\n",
       "       43, 14, 19, 29, 23, 28, 16, 22, 41, 42, 32, 18, 17, 24,  6, 10, 16,\n",
       "       16, 37,  1, 19, 24, 42,  1,  3, 14, 13,  9, 22,  9, 45, 30, 30, 48,\n",
       "       14, 26,  8, 13, 23, 16, 27,  9, 49, 27,  0, 47,  0, 12, 33,  9, 28,\n",
       "       22, 49, 37,  9,  6, 10, 38, 34, 37, 29,  6, 16, 18, 15, 27])"
      ]
     },
     "execution_count": 18,
     "metadata": {},
     "output_type": "execute_result"
    }
   ],
   "source": [
    "population = np.random.randint(50, size=(100))\n",
    "population"
   ]
  },
  {
   "cell_type": "code",
   "execution_count": 33,
   "id": "8c791de8",
   "metadata": {},
   "outputs": [],
   "source": [
    "mu = np.array(population).mean()"
   ]
  },
  {
   "cell_type": "code",
   "execution_count": 34,
   "id": "82863503",
   "metadata": {
    "scrolled": true
   },
   "outputs": [
    {
     "data": {
      "text/plain": [
       "23.33"
      ]
     },
     "execution_count": 34,
     "metadata": {},
     "output_type": "execute_result"
    }
   ],
   "source": [
    "mu"
   ]
  },
  {
   "cell_type": "code",
   "execution_count": 35,
   "id": "de648d82",
   "metadata": {},
   "outputs": [
    {
     "data": {
      "text/plain": [
       "(array([6., 1., 1., 5., 8., 4., 3., 5., 7., 5., 1., 6., 3., 7., 7., 3., 3.,\n",
       "        2., 4., 2., 2., 5., 1., 3., 6.]),\n",
       " array([ 0.  ,  1.96,  3.92,  5.88,  7.84,  9.8 , 11.76, 13.72, 15.68,\n",
       "        17.64, 19.6 , 21.56, 23.52, 25.48, 27.44, 29.4 , 31.36, 33.32,\n",
       "        35.28, 37.24, 39.2 , 41.16, 43.12, 45.08, 47.04, 49.  ]),\n",
       " <BarContainer object of 25 artists>)"
      ]
     },
     "execution_count": 35,
     "metadata": {},
     "output_type": "execute_result"
    },
    {
     "data": {
      "image/png": "[encoded data removed]",
      "text/plain": [
       "<Figure size 432x288 with 1 Axes>"
      ]
     },
     "metadata": {},
     "output_type": "display_data"
    }
   ],
   "source": [
    "plt.hist(population, bins = 25, rwidth=0.8)"
   ]
  },
  {
   "cell_type": "code",
   "execution_count": 38,
   "id": "6d21b6f0",
   "metadata": {},
   "outputs": [],
   "source": [
    "# sample 개수 = sample size => n = 30\n",
    "# sample self size = 70\n",
    "\n",
    "\n",
    "samples = []\n",
    "means = []\n",
    "\n",
    "\n",
    "for i in range(30):  \n",
    "    sample = np.random.choice(population, size = (70))\n",
    "    samples.append(sample)\n",
    "    means.append(sample.mean())"
   ]
  },
  {
   "cell_type": "code",
   "execution_count": 40,
   "id": "8ac3f789",
   "metadata": {},
   "outputs": [
    {
     "name": "stdout",
     "output_type": "stream",
     "text": [
      "[array([37, 49,  6, 14, 29, 47,  0, 23, 14, 24, 14, 16, 11, 36, 41, 49,  9,\n",
      "       20, 15,  1, 27, 16, 15, 49, 25,  6, 12, 37, 10, 27, 31, 16, 35, 13,\n",
      "       29, 29, 42, 23, 15, 20, 29, 29,  9, 37,  0, 18, 31, 37, 30, 31, 18,\n",
      "       33, 22,  6, 38, 14, 28, 17,  0, 33, 35,  4, 17, 46, 15, 35, 23, 35,\n",
      "       36,  9]), array([34, 23, 10,  8, 20, 30, 23, 15,  0, 26, 31, 30, 42,  9, 43,  0, 29,\n",
      "       16, 47, 42, 28, 28, 24, 37,  6, 10, 23, 30, 29, 48, 33, 14, 13, 33,\n",
      "       17,  0, 42, 16, 31, 13, 22, 22, 39, 26, 22,  0, 49,  9, 10,  1,  6,\n",
      "       49, 49, 26, 29, 12,  9, 13, 13, 36, 38, 48, 31,  9,  9,  1,  0,  6,\n",
      "        9, 27]), array([31, 10, 42,  6, 22,  6, 11, 36, 36,  1, 12, 22, 38, 16, 26, 30, 48,\n",
      "        6, 27, 28, 16, 17, 13, 23, 39, 16, 15, 33,  9, 23, 23, 32, 30, 23,\n",
      "        9, 46, 16, 31, 26,  6, 49, 29, 17,  9, 13, 13, 36, 34, 19, 11,  1,\n",
      "       24,  8,  6, 18,  4, 49, 10, 49, 47, 47, 41, 27, 26, 36, 46, 16, 10,\n",
      "        1, 34]), array([49, 14, 41, 16, 22, 26, 23, 26, 15,  6, 20, 47, 18, 32, 19, 46, 47,\n",
      "       42, 42,  0, 49,  9,  9, 48, 13, 24, 37,  9, 32,  9, 39, 26,  1, 37,\n",
      "       10,  0, 23,  0, 16, 15, 13, 42, 30, 37, 20, 18, 14, 23, 27, 29, 42,\n",
      "       15, 10, 45, 15,  9, 35, 26, 27, 22, 27, 45,  0, 25,  6,  0, 18, 16,\n",
      "       22, 22]), array([47, 30,  3, 49, 16, 19,  9, 47,  3,  9,  9,  6, 17, 38,  6, 38, 27,\n",
      "       49,  6, 18, 29, 10, 45,  4, 23, 42, 30, 28, 29, 19, 17, 42, 16,  8,\n",
      "       47, 32, 17, 27,  0, 32, 29, 26, 16, 13, 17, 26, 37,  0, 42, 45, 33,\n",
      "       16, 35, 23, 25, 15, 22, 49, 47, 22,  0, 10, 26, 29, 22,  9, 19,  0,\n",
      "       48, 30]), array([49, 19, 48,  9,  0, 24, 16, 23, 41, 15,  6, 14, 23,  6, 16, 49, 34,\n",
      "       42, 17, 23, 49, 14, 10, 35, 26, 32, 23, 18, 20, 41, 30, 12, 28, 49,\n",
      "       39, 33, 30, 48, 42,  6, 16, 23,  3, 10, 16, 42,  3,  8, 11, 43, 24,\n",
      "        6, 15, 23, 17,  9, 27,  3, 27,  9, 37,  3, 22, 29, 43, 42, 35, 32,\n",
      "       10,  1]), array([49, 48, 13, 27, 19, 26,  6,  9, 15,  9,  6, 29, 14, 27, 15, 39, 28,\n",
      "        6,  8,  8, 36, 49, 29,  9, 17, 37, 49, 42,  8, 16, 29,  0, 22,  0,\n",
      "        0, 26, 13, 16, 14, 14, 39,  9,  9, 39, 46, 22, 15, 47, 14, 24, 37,\n",
      "       49,  4, 32, 23, 26, 49, 27, 26,  6, 19, 37, 36,  8,  6, 10, 13, 33,\n",
      "       38, 37]), array([11, 35, 15,  0, 19,  4, 15,  0, 47, 15, 23, 10, 18, 41, 18, 47, 33,\n",
      "        6, 13, 12, 24, 33, 27,  9,  3,  0, 46, 19, 42, 39, 49,  0, 19, 18,\n",
      "       26,  9, 27, 20, 24,  9,  9,  6, 10, 48, 25, 16, 49, 22, 41, 14, 48,\n",
      "       42, 35,  6, 31, 16, 48,  0, 16,  9,  0, 14, 33, 27, 22, 38,  0, 42,\n",
      "       47, 14]), array([ 9, 12, 12, 34, 42, 27, 33, 29,  9, 49, 29, 24, 28, 34, 32,  0, 18,\n",
      "        4, 17, 16, 29, 32,  0, 47, 45,  6, 17, 15, 42, 48, 18,  8, 15,  9,\n",
      "       24, 28, 11, 43, 49, 22, 20, 22, 33,  9, 22, 24,  9, 12,  6, 41, 10,\n",
      "       10, 18, 17, 29, 19, 17, 30, 10, 18, 31, 35, 14, 22, 29, 36, 14, 14,\n",
      "        6, 16]), array([33, 47, 33, 23, 19, 16, 49, 29,  9,  6, 47,  0, 10,  9, 29, 29,  0,\n",
      "       30, 30,  1, 27, 23, 46,  9, 30,  3, 23, 15, 37, 11, 27, 36, 37, 14,\n",
      "       22, 20, 49, 27, 10,  1, 42,  9, 10, 27, 33, 22, 10, 32,  6, 22,  6,\n",
      "       29, 37, 17, 37, 22, 23, 32, 24, 46, 14, 42, 34, 22, 45,  6, 19,  9,\n",
      "       25, 24]), array([10, 23,  6,  1,  0, 26, 16, 22,  9,  9, 42, 15,  9, 29,  9, 38, 27,\n",
      "       29, 33,  6, 23, 42, 15, 16,  9,  6, 27, 37, 35, 29,  9, 32, 30, 27,\n",
      "       34, 37, 25, 42,  9, 27, 14,  6, 16, 17,  9, 13, 15, 18, 22, 45, 47,\n",
      "       19, 17, 11, 18,  6, 16, 42, 13, 23,  6, 26, 22, 29, 26, 27, 46, 41,\n",
      "       29, 47]), array([37, 42, 23,  0, 18, 42,  0, 30,  6, 16, 31,  0,  9, 18,  6, 22, 14,\n",
      "       18, 49, 32, 37,  0, 42, 32, 39, 16, 26, 36,  6,  6, 20, 16, 15, 31,\n",
      "       47, 22, 33, 16, 27, 49, 28, 29, 16, 49, 12, 26, 22, 29, 42, 10, 13,\n",
      "       49, 22, 18, 41, 27, 17, 18, 38, 49, 37, 35,  1,  9, 26, 16, 23, 28,\n",
      "        9,  9]), array([12, 27, 31, 29, 23, 26, 29, 23,  9, 16, 23, 23, 17, 27, 10, 16, 37,\n",
      "       13, 39, 36, 14, 10, 15, 18,  1,  1,  0, 35, 27, 48,  6, 37, 37,  6,\n",
      "       48, 26, 12,  6, 26, 48, 33, 49,  0, 24, 23, 34, 37, 17, 46, 16, 37,\n",
      "       11, 14, 36, 43, 17, 37, 17, 26, 24,  1, 25,  9, 29, 23,  4, 19, 26,\n",
      "       18, 35]), array([ 9, 15, 33, 37, 35, 43,  0, 16,  0, 16, 19,  9, 27,  6, 37, 42, 19,\n",
      "       31, 29, 14, 33, 15, 16, 26, 49,  3, 16, 27, 14,  9, 33, 13, 28, 14,\n",
      "       16, 26, 27, 29,  9,  1,  3, 43, 14, 37, 30, 23, 37, 35, 25, 16, 18,\n",
      "        9, 13, 23, 34, 42, 49, 27,  0, 49, 10, 19, 10, 28, 26, 14, 22, 15,\n",
      "       49, 27]), array([13, 41, 16, 27, 43, 30, 43, 23, 45, 42,  9, 26, 16, 23, 46,  4, 27,\n",
      "       18, 17, 22, 35, 30,  0,  6, 29, 38, 18, 34, 19, 28,  4,  9,  1,  6,\n",
      "       30,  9, 37, 30, 28, 49, 28, 14, 29, 33,  0,  0, 49, 30,  0, 17,  4,\n",
      "       26,  6, 46, 45,  0, 10, 24, 18, 29,  9, 28, 13, 22,  9, 23,  6,  0,\n",
      "       22, 16]), array([38, 37, 18, 31, 26, 25, 20,  9, 37, 47,  8, 28, 18, 28, 34, 27, 16,\n",
      "       30, 42, 42,  4, 15, 23, 36,  0,  1, 32,  6, 49, 23,  3, 10, 14, 22,\n",
      "       12, 35,  0, 41, 15, 37, 16, 26, 20, 14, 48, 38,  9, 48, 47,  8,  0,\n",
      "       14, 49, 34,  1, 10, 10,  6, 22, 41, 28, 18, 20, 42, 29, 18, 31, 48,\n",
      "       49, 37]), array([42, 42, 29, 38, 15, 14, 43,  6, 39, 12, 37, 28, 29,  6, 10,  6, 18,\n",
      "       36,  6, 14, 47,  8, 24, 41, 22,  9, 46, 49, 49, 17, 37, 29, 22, 17,\n",
      "       23, 27, 37, 28, 35, 37,  0,  6, 25, 15, 45, 16, 18, 49, 42, 48, 49,\n",
      "       49, 30, 29, 31,  9, 22, 22,  0,  9, 19,  6,  1, 12, 19,  3, 49, 22,\n",
      "       10, 18]), array([23, 34, 31,  0, 42, 49, 33,  0, 49,  0, 17,  0, 48, 10,  0, 39, 10,\n",
      "       27, 42, 48, 29, 42,  9, 13, 16, 34, 28,  6, 28, 35, 34, 30, 26, 16,\n",
      "       23, 22, 23, 42, 22,  9, 11,  9, 14, 36, 45, 27, 26, 23, 37, 49,  6,\n",
      "       30, 42, 48, 28, 49, 47,  9, 33, 31, 14, 27, 37, 46, 33, 27, 48, 23,\n",
      "       26, 26]), array([ 6, 28, 28, 13, 11, 30,  0, 47, 47, 18, 16, 28, 13, 49, 28, 43, 48,\n",
      "        9, 27,  9, 16, 17, 37,  9, 42, 12, 28,  9, 24, 29,  9,  1, 24, 17,\n",
      "       33, 48, 24,  0, 35,  6,  8,  4, 48, 49, 16,  6, 12, 30, 11,  9, 16,\n",
      "       45, 35, 48, 42, 20, 49, 35, 47, 22, 17, 43, 33,  9, 10, 14, 13,  9,\n",
      "       43, 26]), array([18, 10, 27,  3, 38,  1, 16, 49, 17, 27, 30,  9, 23, 29, 13, 49, 36,\n",
      "        9, 26,  3, 48, 22, 16, 16, 15, 26, 22, 27, 17, 15, 42, 28, 15,  6,\n",
      "       47, 23, 27, 16, 14,  9, 19,  6, 38, 43,  0, 14, 15, 26, 25, 27, 13,\n",
      "       14,  4, 16, 28, 13, 39, 28,  6, 28, 24, 45, 18, 38,  6,  8, 47, 26,\n",
      "       17, 27]), array([37,  9, 20, 18, 49, 30, 36, 28, 23, 28, 42, 10, 23,  6, 35, 35, 17,\n",
      "       16, 43, 24,  9, 17, 11,  9, 28,  4, 23, 22, 29, 30, 36, 16, 49, 28,\n",
      "       49,  8,  9,  6, 31,  6, 33, 34, 29, 33, 30, 39, 41, 42, 14,  9, 37,\n",
      "       29, 47, 49, 14,  9, 36,  6, 36, 35, 29, 27, 10, 27, 47, 28, 29,  0,\n",
      "       25, 10]), array([25,  9, 42, 41, 24, 42,  9, 16, 18, 22, 14, 16, 29,  3, 29, 17, 47,\n",
      "        9, 10, 36,  9, 34,  6, 43,  9, 42,  8, 18, 18, 30, 15, 23, 43, 49,\n",
      "       33, 28, 29, 35, 10,  9, 33, 35, 11, 27,  0, 35, 16, 49, 47, 12, 30,\n",
      "       14, 10, 24,  1, 12, 49, 49, 25, 28, 34, 28, 30, 42, 35,  1, 26, 33,\n",
      "       36, 23]), array([43, 22, 48, 19, 33,  8, 15,  9, 49, 10, 32, 13, 26, 27, 17, 27, 39,\n",
      "       24, 28, 36, 16, 47,  9, 27, 32, 41,  6, 22,  0, 22,  3, 35, 34, 19,\n",
      "        8, 30, 20,  0,  6, 23, 41, 27, 29, 49, 16, 19, 16, 19, 27, 28,  9,\n",
      "       27, 18,  9, 49, 42, 49,  1, 42, 10,  9, 47,  9, 49, 37, 10, 41, 18,\n",
      "       26,  6]), array([42, 49, 37, 22, 41, 19,  0, 22, 26, 16, 26, 37, 14,  8,  1, 35, 37,\n",
      "        0, 16, 18, 47, 22, 29, 26, 14,  0, 12, 37,  9, 24, 17, 28, 19, 42,\n",
      "       18,  9, 48, 22, 35, 28, 13, 49,  3, 19, 27,  1, 49, 30, 22, 16, 19,\n",
      "       12,  9, 36, 13, 15, 36, 22, 28, 49, 15,  9,  9, 26,  9, 23, 27, 13,\n",
      "       36, 22]), array([ 9, 29,  9, 42, 19, 26, 37, 28, 27, 14, 15, 35, 42, 22, 28, 15,  4,\n",
      "        3, 37, 27,  9, 28, 26, 29, 30, 23, 32, 16, 17,  6, 31, 22, 33,  9,\n",
      "        0, 16, 22, 49, 22,  1, 37, 17,  9, 33, 41, 20, 45,  9, 49, 41, 49,\n",
      "       27, 29, 11, 48, 43,  1, 19, 19,  0, 42,  9, 30,  6, 34, 42, 33, 47,\n",
      "       49, 28]), array([23, 10, 49, 39, 22, 47, 49, 18, 32, 17,  0, 48,  9, 18,  9, 18, 14,\n",
      "       16, 36, 41, 33,  9, 42, 19, 26, 36, 17, 29,  9, 29, 35, 37, 17, 41,\n",
      "       10, 19, 26, 34,  4, 29, 26, 36, 17, 15, 13, 26,  0, 42, 24, 13, 33,\n",
      "       41, 23, 47, 29, 27, 20, 29, 49, 22, 39, 28, 25, 11,  6, 30, 37, 13,\n",
      "       15, 14]), array([34, 13,  9,  0,  6,  9,  6, 49,  0,  0,  9, 16,  9, 28,  6, 10, 13,\n",
      "       16, 42, 37,  0, 30, 16, 42, 26, 14, 37,  6,  3,  9,  3, 16, 47, 48,\n",
      "       19, 14, 24, 41, 18, 20, 37, 37, 28, 36,  3, 41, 32, 13, 10, 41, 31,\n",
      "       43, 10, 15, 49, 17, 27, 28, 15,  9,  9, 20, 31,  6,  0, 24, 14, 42,\n",
      "       37, 16]), array([41, 28, 27, 25, 10, 26, 32, 23, 48, 10, 11, 39, 34, 26, 17, 33,  9,\n",
      "        9, 27, 16, 41, 20, 14, 18, 14, 28, 26, 29, 24, 27, 41, 15,  9,  6,\n",
      "       10,  9, 16, 27,  6, 15,  6, 12, 17, 13, 17, 16,  1, 42, 20,  9, 35,\n",
      "       37,  6, 49, 27, 49, 45, 22, 42, 31, 29, 19, 18, 18,  1, 46, 19, 35,\n",
      "       29, 34]), array([30,  9, 15, 29, 24,  6, 33, 27, 46, 47,  0, 33,  9,  8,  9,  6, 42,\n",
      "       11,  9,  9, 37, 48, 30, 18,  6, 30,  9, 34, 49,  4, 42, 29, 49,  6,\n",
      "       18, 15, 23, 14, 11, 30, 47, 41, 37, 49,  1, 14, 34, 25, 23, 47, 27,\n",
      "        9, 42, 47, 38, 33, 37, 49, 49, 37, 19, 30, 42, 39, 23, 29, 33, 49,\n",
      "       42, 28]), array([14, 16, 29, 36, 31, 24, 48,  0, 37, 19, 14, 26,  9,  6, 49, 48,  4,\n",
      "       33, 49, 16, 10, 33, 30, 30,  1, 49, 14,  1,  6, 13, 35, 41, 42,  9,\n",
      "       13, 36,  0, 17, 47, 37, 38, 49,  0, 49, 49, 16, 39, 38, 29, 48, 15,\n",
      "       48,  9, 15,  3, 37,  9, 42,  6, 23, 25, 10, 16, 14, 29, 19, 15, 10,\n",
      "       27,  0])]\n",
      "[23.52857142857143, 22.47142857142857, 23.285714285714285, 23.385714285714286, 23.914285714285715, 23.542857142857144, 22.957142857142856, 22.185714285714287, 22.271428571428572, 23.457142857142856, 22.228571428571428, 23.957142857142856, 23.1, 22.685714285714287, 21.814285714285713, 24.571428571428573, 24.957142857142856, 27.085714285714285, 24.1, 22.02857142857143, 25.47142857142857, 24.914285714285715, 24.34285714285714, 22.985714285714284, 25.085714285714285, 25.228571428571428, 20.942857142857143, 23.285714285714285, 27.485714285714284, 24.271428571428572]\n"
     ]
    }
   ],
   "source": [
    "print(samples)\n",
    "print(means)"
   ]
  },
  {
   "cell_type": "code",
   "execution_count": 41,
   "id": "22ba336d",
   "metadata": {},
   "outputs": [],
   "source": [
    "n = len(samples)\n",
    "xBar = np.array(means).mean()"
   ]
  },
  {
   "cell_type": "markdown",
   "id": "d813f7eb",
   "metadata": {},
   "source": [
    "### x' = mean of means\n",
    "xBar ~ mu"
   ]
  },
  {
   "cell_type": "code",
   "execution_count": 42,
   "id": "e0861686",
   "metadata": {},
   "outputs": [
    {
     "name": "stdout",
     "output_type": "stream",
     "text": [
      "n:  30\n",
      "xBar:  23.71809523809524\n"
     ]
    }
   ],
   "source": [
    "print('n: ',n)\n",
    "print('xBar: ',xBar)"
   ]
  },
  {
   "cell_type": "markdown",
   "id": "6131294c",
   "metadata": {},
   "source": [
    "## Standard Error => SE =  s/sqrt(n)\n",
    "s = std of Sample\n",
    "n = Sample size = Sample 개수"
   ]
  },
  {
   "cell_type": "code",
   "execution_count": 43,
   "id": "e7ed4be8",
   "metadata": {},
   "outputs": [
    {
     "data": {
      "text/plain": [
       "1.4488087216807264"
      ]
     },
     "execution_count": 43,
     "metadata": {},
     "output_type": "execute_result"
    }
   ],
   "source": [
    "s = np.array(means).std()\n",
    "s"
   ]
  },
  {
   "cell_type": "code",
   "execution_count": 44,
   "id": "d8f3d038",
   "metadata": {},
   "outputs": [
    {
     "data": {
      "text/plain": [
       "0.2645150727915859"
      ]
     },
     "execution_count": 44,
     "metadata": {},
     "output_type": "execute_result"
    }
   ],
   "source": [
    "SE = s/math.sqrt(n)\n",
    "SE"
   ]
  },
  {
   "cell_type": "markdown",
   "id": "9e960a6f",
   "metadata": {},
   "source": [
    "### берилген: Confidence Level = 95% ==> z-score = 1.96 = z\n",
    "## Margin of Error = +- z*SE = +-( z*s)/sqrt(n)"
   ]
  },
  {
   "cell_type": "code",
   "execution_count": 45,
   "id": "4c6a54f6",
   "metadata": {},
   "outputs": [
    {
     "data": {
      "text/plain": [
       "0.5184495426715084"
      ]
     },
     "execution_count": 45,
     "metadata": {},
     "output_type": "execute_result"
    }
   ],
   "source": [
    "z = 1.96\n",
    "\n",
    "MoE = z*SE \n",
    "MoE"
   ]
  },
  {
   "cell_type": "code",
   "execution_count": 47,
   "id": "ea3be0b3",
   "metadata": {},
   "outputs": [],
   "source": [
    "lower = xBar - MoE\n",
    "upper = xBar + MoE"
   ]
  },
  {
   "cell_type": "code",
   "execution_count": 51,
   "id": "2f1c5e9f",
   "metadata": {},
   "outputs": [
    {
     "name": "stdout",
     "output_type": "stream",
     "text": [
      "With 95# Confidence level:\n",
      "Confidence Interval: 23.20----23.72----24.24\n"
     ]
    }
   ],
   "source": [
    "print('With 95# Confidence level:')\n",
    "print('Confidence Interval: {:.2f}----{:.2f}----{:.2f}'.format(lower, xBar, upper))"
   ]
  },
  {
   "cell_type": "code",
   "execution_count": 64,
   "id": "2d15c15e",
   "metadata": {},
   "outputs": [
    {
     "data": {
      "text/plain": [
       "(array([1., 0., 1., 3., 2., 1., 3., 6., 0., 3., 2., 1., 3., 2., 0., 0., 0.,\n",
       "        0., 1., 1.]),\n",
       " array([20.94285714, 21.27      , 21.59714286, 21.92428571, 22.25142857,\n",
       "        22.57857143, 22.90571429, 23.23285714, 23.56      , 23.88714286,\n",
       "        24.21428571, 24.54142857, 24.86857143, 25.19571429, 25.52285714,\n",
       "        25.85      , 26.17714286, 26.50428571, 26.83142857, 27.15857143,\n",
       "        27.48571429]),\n",
       " <BarContainer object of 20 artists>)"
      ]
     },
     "execution_count": 64,
     "metadata": {},
     "output_type": "execute_result"
    },
    {
     "data": {
      "image/png": "[encoded data removed]",
      "text/plain": [
       "<Figure size 432x288 with 1 Axes>"
      ]
     },
     "metadata": {},
     "output_type": "display_data"
    }
   ],
   "source": [
    "plt.hist(means, bins = 20, rwidth=0.8)"
   ]
  },
  {
   "cell_type": "markdown",
   "id": "90cd687c",
   "metadata": {},
   "source": [
    "# !! mu is 23.33, xBar is 23.72\n",
    "\n",
    "1) mu is in Confidence Interval    \n",
    "2) 23.72 - 23.72 = 0.38  is bias\n"
   ]
  },
  {
   "cell_type": "code",
   "execution_count": null,
   "id": "0d49798c",
   "metadata": {},
   "outputs": [],
   "source": []
  },
  {
   "cell_type": "code",
   "execution_count": null,
   "id": "1b49e50c",
   "metadata": {},
   "outputs": [],
   "source": []
  },
  {
   "cell_type": "code",
   "execution_count": 70,
   "id": "3457e951",
   "metadata": {},
   "outputs": [],
   "source": [
    "d = np.array([295,302,310,285,290,198,307,300,291,288])"
   ]
  },
  {
   "cell_type": "code",
   "execution_count": 72,
   "id": "c82b88ed",
   "metadata": {},
   "outputs": [
    {
     "data": {
      "text/plain": [
       "286.6"
      ]
     },
     "execution_count": 72,
     "metadata": {},
     "output_type": "execute_result"
    }
   ],
   "source": [
    "xBar = d.sum()/len(d)\n",
    "xBar"
   ]
  },
  {
   "cell_type": "code",
   "execution_count": 74,
   "id": "2e622b78",
   "metadata": {},
   "outputs": [
    {
     "data": {
      "text/plain": [
       "70.55999999999962"
      ]
     },
     "execution_count": 74,
     "metadata": {},
     "output_type": "execute_result"
    }
   ],
   "source": [
    "(295-286.6)**2"
   ]
  },
  {
   "cell_type": "code",
   "execution_count": 83,
   "id": "74262863",
   "metadata": {},
   "outputs": [
    {
     "data": {
      "text/plain": [
       "array([7.05600e+01, 2.37160e+02, 5.47560e+02, 2.56000e+00, 1.15600e+01,\n",
       "       7.84996e+03, 4.16160e+02, 1.79560e+02, 1.93600e+01, 1.96000e+00])"
      ]
     },
     "execution_count": 83,
     "metadata": {},
     "output_type": "execute_result"
    }
   ],
   "source": [
    " (d-xBar)**2"
   ]
  },
  {
   "cell_type": "code",
   "execution_count": 82,
   "id": "e4e7a122",
   "metadata": {},
   "outputs": [
    {
     "data": {
      "text/plain": [
       "1037.3777777777777"
      ]
     },
     "execution_count": 82,
     "metadata": {},
     "output_type": "execute_result"
    }
   ],
   "source": [
    "sampleDistributionSqr = (1/(len(d)-1))*((d-xBar)**2).sum()\n",
    "sampleDistributionSqr"
   ]
  },
  {
   "cell_type": "code",
   "execution_count": 84,
   "id": "e1416c5a",
   "metadata": {},
   "outputs": [
    {
     "data": {
      "text/plain": [
       "32.20834950409253"
      ]
     },
     "execution_count": 84,
     "metadata": {},
     "output_type": "execute_result"
    }
   ],
   "source": [
    "sampleDistrib = np.sqrt(sampleDistributionSqr.sum())\n",
    "sampleDistrib"
   ]
  },
  {
   "cell_type": "code",
   "execution_count": 85,
   "id": "052e6dff",
   "metadata": {},
   "outputs": [
    {
     "data": {
      "text/plain": [
       "30.555523232306136"
      ]
     },
     "execution_count": 85,
     "metadata": {},
     "output_type": "execute_result"
    }
   ],
   "source": [
    "d.std()"
   ]
  },
  {
   "cell_type": "code",
   "execution_count": null,
   "id": "757c14f2",
   "metadata": {},
   "outputs": [],
   "source": []
  },
  {
   "cell_type": "code",
   "execution_count": null,
   "id": "19be3a5a",
   "metadata": {},
   "outputs": [],
   "source": []
  },
  {
   "cell_type": "markdown",
   "id": "ae5e8d63",
   "metadata": {},
   "source": [
    "## probability and statisticsn (책)"
   ]
  },
  {
   "cell_type": "code",
   "execution_count": 109,
   "id": "601aba70",
   "metadata": {},
   "outputs": [
    {
     "data": {
      "text/plain": [
       "array([[55, 58, 67, 60, 60, 62],\n",
       "       [55, 48, 66, 32, 60, 55],\n",
       "       [46, 62, 38, 68, 46, 35],\n",
       "       [43, 42, 50, 35, 64, 56],\n",
       "       [34, 62, 31, 33, 40, 52]])"
      ]
     },
     "execution_count": 109,
     "metadata": {},
     "output_type": "execute_result"
    }
   ],
   "source": [
    "data = np.random.randint(30,70, size = (5,6))\n",
    "data\n"
   ]
  },
  {
   "cell_type": "code",
   "execution_count": 110,
   "id": "2fd7d8a1",
   "metadata": {},
   "outputs": [
    {
     "data": {
      "text/plain": [
       "68"
      ]
     },
     "execution_count": 110,
     "metadata": {},
     "output_type": "execute_result"
    }
   ],
   "source": [
    "xmax = data.max()\n",
    "xmax"
   ]
  },
  {
   "cell_type": "code",
   "execution_count": 111,
   "id": "fd307566",
   "metadata": {},
   "outputs": [
    {
     "data": {
      "text/plain": [
       "31"
      ]
     },
     "execution_count": 111,
     "metadata": {},
     "output_type": "execute_result"
    }
   ],
   "source": [
    "xmin = data.min()\n",
    "xmin\n"
   ]
  },
  {
   "cell_type": "code",
   "execution_count": 112,
   "id": "2a10ba14",
   "metadata": {},
   "outputs": [
    {
     "data": {
      "text/plain": [
       "37"
      ]
     },
     "execution_count": 112,
     "metadata": {},
     "output_type": "execute_result"
    }
   ],
   "source": [
    "R = xmax - xmin\n",
    "R"
   ]
  },
  {
   "cell_type": "code",
   "execution_count": 113,
   "id": "033ba315",
   "metadata": {},
   "outputs": [
    {
     "data": {
      "text/plain": [
       "13.8"
      ]
     },
     "execution_count": 113,
     "metadata": {},
     "output_type": "execute_result"
    }
   ],
   "source": [
    "k = 69/len(data)\n",
    "k"
   ]
  },
  {
   "cell_type": "code",
   "execution_count": 114,
   "id": "1fe7ebd1",
   "metadata": {},
   "outputs": [
    {
     "data": {
      "text/plain": [
       "(array([[1., 0., 0., 1., 1., 0., 2., 0., 0., 0.],\n",
       "        [0., 0., 1., 0., 1., 0., 0., 1., 2., 0.],\n",
       "        [1., 1., 0., 0., 0., 1., 0., 0., 0., 2.],\n",
       "        [2., 1., 0., 0., 0., 0., 0., 1., 0., 1.],\n",
       "        [0., 0., 1., 0., 1., 0., 0., 2., 1., 0.],\n",
       "        [0., 1., 0., 0., 0., 1., 2., 0., 1., 0.]]),\n",
       " array([31. , 34.7, 38.4, 42.1, 45.8, 49.5, 53.2, 56.9, 60.6, 64.3, 68. ]),\n",
       " <a list of 6 BarContainer objects>)"
      ]
     },
     "execution_count": 114,
     "metadata": {},
     "output_type": "execute_result"
    },
    {
     "data": {
      "image/png": "[encoded data removed]",
      "text/plain": [
       "<Figure size 432x288 with 1 Axes>"
      ]
     },
     "metadata": {},
     "output_type": "display_data"
    }
   ],
   "source": [
    "plt.hist(data)"
   ]
  },
  {
   "cell_type": "code",
   "execution_count": null,
   "id": "f1e49d6d",
   "metadata": {},
   "outputs": [],
   "source": []
  },
  {
   "cell_type": "code",
   "execution_count": null,
   "id": "044886a6",
   "metadata": {},
   "outputs": [],
   "source": []
  },
  {
   "cell_type": "code",
   "execution_count": null,
   "id": "c8e0c0d8",
   "metadata": {},
   "outputs": [],
   "source": []
  }
 ],
 "metadata": {
  "kernelspec": {
   "display_name": "Python 3",
   "language": "python",
   "name": "python3"
  },
  "language_info": {
   "codemirror_mode": {
    "name": "ipython",
    "version": 3
   },
   "file_extension": ".py",
   "mimetype": "text/x-python",
   "name": "python",
   "nbconvert_exporter": "python",
   "pygments_lexer": "ipython3",
   "version": "3.8.8"
  }
 },
 "nbformat": 4,
 "nbformat_minor": 5
}
